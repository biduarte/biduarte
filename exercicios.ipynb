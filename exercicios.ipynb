{
 "cells": [
  {
   "cell_type": "markdown",
   "id": "70f90c48-0d7c-4c7a-9fed-8098c66328ca",
   "metadata": {},
   "source": [
    "#LISTA DE EXERCICIOS"
   ]
  },
  {
   "cell_type": "code",
   "execution_count": 5,
   "id": "167daa15-7471-47c9-ba82-f8b7c56a81f6",
   "metadata": {},
   "outputs": [
    {
     "name": "stdin",
     "output_type": "stream",
     "text": [
      "inserir ano de nascimento:  2001\n",
      "inserir ano atual 2024\n"
     ]
    },
    {
     "name": "stdout",
     "output_type": "stream",
     "text": [
      "A idade da pessoa que nascida em 2001 tem 23 no ano 2024, quando for 2025 terá 24\n"
     ]
    }
   ],
   "source": [
    "#Fornecido o ano de nascimento de uma pessoa e o ano atual, \n",
    "#calcule e mostre a idade a pessoa e quantos anos a pessoa terá em 2025\n",
    "nascimento=int(input(\"inserir ano de nascimento: \"))\n",
    "ano_atual=int(input(\"inserir ano atual\" ))\n",
    "idade = ano_atual - nascimento\n",
    "idade_2025 = 2025 - nascimento\n",
    "print(\"A idade da pessoa que nascida em {} tem {} no ano {}, quando for 2025 terá {}\".format(nascimento,idade,ano_atual,idade_2025))"
   ]
  },
  {
   "cell_type": "code",
   "execution_count": 6,
   "id": "dd8d2980-2b08-4f26-8898-c02b35ab7b38",
   "metadata": {},
   "outputs": [
    {
     "name": "stdin",
     "output_type": "stream",
     "text": [
      "inserir largura do comodo:  15\n",
      "inserir comprimento do comodo:  15\n"
     ]
    },
    {
     "name": "stdout",
     "output_type": "stream",
     "text": [
      " A potencia utilizada no comodo apresentado é 3375\n"
     ]
    }
   ],
   "source": [
    "#Para iluminar uma casa cada m^2 deve usar 15W de potencia.\n",
    "#Sendo fornecidas as imensões e um comodo calcule e exiba a sua area e a potencia de iluminação\n",
    "p=15\n",
    "largura=int(input('inserir largura do comodo: '))\n",
    "comprimento=int(input('inserir comprimento do comodo: '))\n",
    "p_util=p*largura*comprimento\n",
    "print(' A potencia utilizada no comodo apresentado é {}' .format(p_util))"
   ]
  },
  {
   "cell_type": "code",
   "execution_count": 19,
   "id": "7e46205d-ecc3-4468-b358-8129f44850cc",
   "metadata": {},
   "outputs": [
    {
     "name": "stdin",
     "output_type": "stream",
     "text": [
      "Inserir valor do ângulo theta em radiano:  1.156\n"
     ]
    },
    {
     "name": "stdout",
     "output_type": "stream",
     "text": [
      "para \theta 1.156 rad, temos cosseno 0.4, seno 0.92 e tangente 2.3\n"
     ]
    }
   ],
   "source": [
    "#Entrar com valor de \\theta e calcular o seno, cosseno e tangente\n",
    "import math\n",
    "theta=float(input('Inserir valor do ângulo theta em radiano: '))\n",
    "cos=math.cos(theta)\n",
    "sen=math.sin(theta)\n",
    "tan=math.tan(theta)\n",
    "print ('para \\theta {} rad, temos cosseno {:.2}, seno {:.2} e tangente {:.2}'. format(theta,cos,sen,tan))"
   ]
  }
 ],
 "metadata": {
  "kernelspec": {
   "display_name": "anaconda-panel-2023.05-py310",
   "language": "python",
   "name": "conda-env-anaconda-panel-2023.05-py310-py"
  },
  "language_info": {
   "codemirror_mode": {
    "name": "ipython",
    "version": 3
   },
   "file_extension": ".py",
   "mimetype": "text/x-python",
   "name": "python",
   "nbconvert_exporter": "python",
   "pygments_lexer": "ipython3",
   "version": "3.11.5"
  }
 },
 "nbformat": 4,
 "nbformat_minor": 5
}
