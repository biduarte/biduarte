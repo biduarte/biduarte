{
 "cells": [
  {
   "cell_type": "markdown",
   "metadata": {},
   "source": [
    "# 2º trabalho prático\n",
    "\n",
    "Quando uma substância S, solúvel em dois solventes imiscíveis, A e B, é agitada com uma mistura de ambos, ela se distribui entre eles de acordo com a lei de distribuição de Nernst. Se a substância apresenta a mesma forma molecular nos dois solventes, a razão das suas atividades nas duas fases é constante. Como a atividade pode ser considerada igual a concentração em soluções muito diluídas,\n",
    "\n",
    "$$ K = \\frac{C_A}{C_B} $$\n",
    "\n",
    "em que K é igual ao coeficiente de partição e $C_A$ e $C_B$ são as concentrações, ou as solubilidades, do soluto em cada um dos solventes. Nesta equação, K é a constante de\n",
    "equilíbrio do sistema.\n",
    "\n",
    "$$ S(fase B) \\rightleftharpoons S(fase A)$$\n",
    "\n",
    "Se as moléculas do soluto se associam em presença de um dos solventes, por exemplo, no solvente B, a expressão da constante de equilíbrio para o sistema\n",
    "\n",
    "$$ S_n(fase B) \\rightleftharpoons nS(fase A)$$\n",
    "\n",
    "em que $n$ é igual ao grau de associação das moléculas do soluto S em presença do solvente B. A expressão para o coeficiente de partição na forma logarítmica, resulta em:\n",
    "\n",
    "$$ \\ln{C_B} = -\\ln{K} + n\\ln{C_A} $$\n",
    "\n",
    "A equação anterior mostra que, pelas medidas de $C_A$ e $C_B$ do soluto S distribuído nos dois solventes no equilíbrio em várias proporções, pode-se determinar a constante $K$ e o grau de associação $n$, através do gráfico $\\ln{C_B} \\times \\ln{C_A}$.\n",
    "\n",
    "Em um experimento estudou-se a distribuição do ácido benzóico entre água e cicloexano, líquidos imiscíveis. Nos arquivos fase_aquosa.csv e fase_organica.csv encontram-se os resultados das titulações realizadas entre as fases aquosa e orgânica, respectivamente, e o NaOH, para a determinação da concentração do ácido benzóico em cada fase.\n",
    "\n",
    "Com base nas informações acima responda às questões a seguir usando comandos em Python:\n",
    "\n",
    "1. Usando a biblioteca pandas abra os arquivos fase_aquosa.csv e fase_orgânica.csv em dois Dataframes. \n",
    "2. Crie uma nova coluna em cada Dataframe com a média dos volumes de NaOH gastos nas titulações.\n",
    "3. Crie uma nova coluna em cada Dataframe com o $ln$ da concentração do ácido benzóico.\n",
    "\n",
    "Dica: para tirar o ln de uma coluna do Dataframe você deve usar a função $\\log$ da biblioteca **numpy**.\n",
    "\n",
    "4. Salve esses Dataframes modificados no formato xlsx.\n",
    "5. Faça um gráfico do $\\ln C_A$(fase orgânica) X $\\ln C_A$(fase aquosa). Dê um título para seu gráfico e para os eixos X e Y. Seu gráfico deve ser de pontos.\n",
    "6. Faça a regressão linear entre $\\ln C_A$(fase orgânica) e $\\ln C_A$(fase aquosa).\n",
    "\n",
    "OBS: A regressão linear pode ser feita da seguinte forma:\n",
    "\n",
    "from scipy import stats\n",
    "\n",
    "result = stats.linregress(x,y)\n",
    "\n",
    "print(\"y = {}x + {}\".format(result.slope,result.intercept))\n",
    "\n",
    "7. Repita o gráfico anterior adicionando a reta da regressão ao gráfico.\n",
    "8. Determine os valores $n$ e $K$."
   ]
  },
  {
   "cell_type": "code",
   "execution_count": null,
   "metadata": {
    "vscode": {
     "languageId": "plaintext"
    }
   },
   "outputs": [],
   "source": []
  }
 ],
 "metadata": {
  "kernelspec": {
   "display_name": "Python 3.8.0 ('QSARModelingGUI')",
   "language": "python",
   "name": "python3"
  },
  "language_info": {
   "codemirror_mode": {
    "name": "ipython",
    "version": 3
   },
   "file_extension": ".py",
   "mimetype": "text/x-python",
   "name": "python",
   "nbconvert_exporter": "python",
   "pygments_lexer": "ipython3",
   "version": "3.8.0"
  },
  "vscode": {
   "interpreter": {
    "hash": "7e32a35687701117f6b56fc67b20f47e787eb335edb8ff84e8996c2cdd766c01"
   }
  }
 },
 "nbformat": 4,
 "nbformat_minor": 4
}
