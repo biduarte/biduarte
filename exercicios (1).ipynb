{
 "cells": [
  {
   "cell_type": "markdown",
   "id": "70f90c48-0d7c-4c7a-9fed-8098c66328ca",
   "metadata": {},
   "source": [
    "#LISTA DE EXERCICIOS 1"
   ]
  },
  {
   "cell_type": "code",
   "execution_count": 5,
   "id": "167daa15-7471-47c9-ba82-f8b7c56a81f6",
   "metadata": {},
   "outputs": [
    {
     "name": "stdin",
     "output_type": "stream",
     "text": [
      "inserir ano de nascimento:  2001\n",
      "inserir ano atual 2024\n"
     ]
    },
    {
     "name": "stdout",
     "output_type": "stream",
     "text": [
      "A idade da pessoa que nascida em 2001 tem 23 no ano 2024, quando for 2025 terá 24\n"
     ]
    }
   ],
   "source": [
    "#Fornecido o ano de nascimento de uma pessoa e o ano atual, \n",
    "#calcule e mostre a idade a pessoa e quantos anos a pessoa terá em 2025\n",
    "nascimento=int(input(\"inserir ano de nascimento: \"))\n",
    "ano_atual=int(input(\"inserir ano atual\" ))\n",
    "idade = ano_atual - nascimento\n",
    "idade_2025 = 2025 - nascimento\n",
    "print(\"A idade da pessoa que nascida em {} tem {} no ano {}, quando for 2025 terá {}\".format(nascimento,idade,ano_atual,idade_2025))"
   ]
  },
  {
   "cell_type": "code",
   "execution_count": 6,
   "id": "dd8d2980-2b08-4f26-8898-c02b35ab7b38",
   "metadata": {},
   "outputs": [
    {
     "name": "stdin",
     "output_type": "stream",
     "text": [
      "inserir largura do comodo:  15\n",
      "inserir comprimento do comodo:  15\n"
     ]
    },
    {
     "name": "stdout",
     "output_type": "stream",
     "text": [
      " A potencia utilizada no comodo apresentado é 3375\n"
     ]
    }
   ],
   "source": [
    "#Para iluminar uma casa cada m^2 deve usar 15W de potencia.\n",
    "#Sendo fornecidas as imensões e um comodo calcule e exiba a sua area e a potencia de iluminação\n",
    "p=15\n",
    "largura=int(input('inserir largura do comodo: '))\n",
    "comprimento=int(input('inserir comprimento do comodo: '))\n",
    "p_util=p*largura*comprimento\n",
    "print(' A potencia utilizada no comodo apresentado é {}' .format(p_util))"
   ]
  },
  {
   "cell_type": "code",
   "execution_count": 22,
   "id": "7e46205d-ecc3-4468-b358-8129f44850cc",
   "metadata": {},
   "outputs": [
    {
     "name": "stdin",
     "output_type": "stream",
     "text": [
      "Inserir valor do ângulo theta em radiano:  0.156\n"
     ]
    },
    {
     "name": "stdout",
     "output_type": "stream",
     "text": [
      "para theta 0.156 rad, temos cosseno 0.99, seno 0.16 e tangente 0.16\n"
     ]
    }
   ],
   "source": [
    "#Entrar com valor de \\theta e calcular o seno, cosseno e tangente\n",
    "import math\n",
    "theta=float(input('Inserir valor do ângulo theta em radiano: '))\n",
    "cos=math.cos(theta)\n",
    "sen=math.sin(theta)\n",
    "tan=math.tan(theta)\n",
    "print ('para theta {} rad, temos cosseno {:.2}, seno {:.2} e tangente {:.2}'. format(theta,cos,sen,tan))"
   ]
  },
  {
   "cell_type": "code",
   "execution_count": 50,
   "id": "c56aa569-c5e8-4be4-b0fe-ac36fda0d637",
   "metadata": {},
   "outputs": [
    {
     "name": "stdin",
     "output_type": "stream",
     "text": [
      "Qual será o valor de palicação mensal: 500\n",
      "Qual a taxa aplicada nas aplicações: 1.3\n",
      "Por quantos meses será a aplicação: 6\n"
     ]
    },
    {
     "name": "stdout",
     "output_type": "stream",
     "text": [
      "Para uma aplicação de 500.0 durante 6 temos o rendimento de R$56552.265\n"
     ]
    }
   ],
   "source": [
    "#Polpança programada, calcular e exibir os rendimentos\n",
    "aplicacao=float(input('Qual será o valor de palicação mensal:'))\n",
    "taxa=float(input('Qual a taxa aplicada nas aplicações:'))\n",
    "meses=int(input('Por quantos meses será a aplicação:'))\n",
    "\n",
    "def rendimento (p,i,n):\n",
    "    v=p*(((1+i)**n-1)/i)\n",
    "    return v\n",
    "\n",
    "rendimento=rendimento(aplicacao,taxa,meses)\n",
    "print ('Para uma aplicação de {} durante {} temos o rendimento de R${:.3f}'.format(aplicacao,meses,rendimento))"
   ]
  },
  {
   "cell_type": "code",
   "execution_count": 58,
   "id": "121cbb10-2754-4cda-ae74-2ce852a2f7bf",
   "metadata": {},
   "outputs": [
    {
     "name": "stdin",
     "output_type": "stream",
     "text": [
      "Inserir os número de segundos: 3600\n"
     ]
    },
    {
     "name": "stdout",
     "output_type": "stream",
     "text": [
      "3600 segundos é o equivalentes a 60.0 minutos e 1.0 horas\n"
     ]
    }
   ],
   "source": [
    "#Converter segundo para minuto e horas\n",
    "seg=int(input('Inserir os número de segundos:'))\n",
    "min=seg/60\n",
    "horas=seg/3600\n",
    "print (\"{} segundos é o equivalentes a {:.5} minutos e {:.5} horas\".format(seg,min,horas))"
   ]
  },
  {
   "cell_type": "code",
   "execution_count": 42,
   "id": "60c1bcab-6ebb-4cf9-abad-d273ea499772",
   "metadata": {},
   "outputs": [
    {
     "name": "stdin",
     "output_type": "stream",
     "text": [
      "inserir o coeficiente angular: 5\n",
      "inserir valor de b: 9\n",
      "inserir termo indepente: -4\n"
     ]
    },
    {
     "name": "stdout",
     "output_type": "stream",
     "text": [
      "Para a equação y=5.0x^2+9.0x+c temos as seguintes raizes -4.0 e 2.2\n"
     ]
    }
   ],
   "source": [
    "#Dados os coeficientes de uma equação de segundo grau calcular as raizes, caso não possua raiz deve mostrar uma mensagem.\n",
    "import math\n",
    "#y=Ax**2+Bx+c\n",
    "a=float(input('inserir o coeficiente angular:'))\n",
    "b=float(input('inserir valor de b:'))\n",
    "c=float(input('inserir termo indepente:'))\n",
    "\n",
    "delta=b**2-4*a*c\n",
    "if (delta <0):\n",
    "    print (\"Não possui raiz\")\n",
    "else:\n",
    "    x1=(b+math.sqrt(delta))/(2*a)\n",
    "    x2=(b-math.sqrt(delta))/(2*a)\n",
    "    print ('Para a equação y={}x^2+{}x+c temos as seguintes raizes {:.2} e {:.2}'.format(a,b,c,x1,x2))    \n",
    "\n",
    "\n",
    "    \n"
   ]
  },
  {
   "cell_type": "code",
   "execution_count": 121,
   "id": "e6ec0047-1016-450a-af36-e931c3a24a41",
   "metadata": {},
   "outputs": [
    {
     "name": "stdin",
     "output_type": "stream",
     "text": [
      "Inserir data:  20\n",
      "inserir mês:  5\n",
      "inserir ano:  2020\n"
     ]
    },
    {
     "name": "stdout",
     "output_type": "stream",
     "text": [
      "Data inválida\n",
      "Data inserida é válida 20/5/2020\n"
     ]
    }
   ],
   "source": [
    "# forncer dados de dia, mês e ano e o sistema deve definir se é uma data valida\n",
    "dia=int(input(\"Inserir data: \"))\n",
    "mes=int(input('inserir mês: '))\n",
    "ano=int(input('inserir ano: '))\n",
    "\n",
    "if (mes >12):\n",
    "    print ('Data inválida')\n",
    "else:\n",
    "    if (mes == 1 or mes ==3 or mes ==5 or mes ==7 or mes ==8 or mes ==10 or mes ==12):\n",
    "        dia < 32\n",
    "    if (mes == 4 or mes == 6 or mes ==9 or mes ==11):\n",
    "        dia <=30\n",
    "if (ano%4 == 0):\n",
    "    print ('Data inserida é válida {}/{}/{}'.format(dia,mes,ano))\n",
    "\n",
    "#if mes == 2:\n",
    " #   dia<28\n",
    "#else:\n",
    " #   dia<31\n"
   ]
  },
  {
   "cell_type": "code",
   "execution_count": 133,
   "id": "1b7e1cea-9b04-4ad6-93b3-c01cdde8f53e",
   "metadata": {},
   "outputs": [
    {
     "name": "stdin",
     "output_type": "stream",
     "text": [
      "Inserir primeira medidad do triangulo: 6\n",
      "Inserir segunda medidad do triangulo: 6\n",
      "Inserir terceira medidad do triangulo: 6\n"
     ]
    },
    {
     "name": "stdout",
     "output_type": "stream",
     "text": [
      "equilatero\n"
     ]
    }
   ],
   "source": [
    "#Pedir tres medidas de lados de um triangulo, se fomrar um riangulo o classificar\n",
    "a=int(input('Inserir primeira medidad do triangulo:'))\n",
    "b=int(input('Inserir segunda medidad do triangulo:'))\n",
    "c=int(input('Inserir terceira medidad do triangulo:'))\n",
    "\n",
    "if a+b<c or a+c<b or b+c<c:\n",
    "    print ('triangulo inválido')\n",
    "else:\n",
    "    if a!=b and b!=c:\n",
    "        print ('escaleno')\n",
    "    if a==b and b!= c:\n",
    "        print ('isoceles')\n",
    "    else:\n",
    "        if a==b and c==b:\n",
    "            print ('equilatero')"
   ]
  },
  {
   "cell_type": "code",
   "execution_count": 159,
   "id": "2ec474fc-b85f-47f3-9bcf-2c4c89402230",
   "metadata": {},
   "outputs": [
    {
     "name": "stdout",
     "output_type": "stream",
     "text": [
      "35\n"
     ]
    }
   ],
   "source": [
    "#País A com 5.000.000 habitantes - taxa de natalidade 3%a.a e país B com 7.000.000 habitantes - taxa de natalidade 2%a.a\n",
    "#Quando A ultrapassa B?\n",
    "t=0\n",
    "pA=5000000*1.03**t\n",
    "pB=7000000*1.02**t\n",
    "while pA<pB:\n",
    "    t+=1\n",
    "    pA = 5000000 * 1.03**t\n",
    "    pB = 7000000 * 1.02**t\n",
    "print (t)\n"
   ]
  },
  {
   "cell_type": "code",
   "execution_count": 187,
   "id": "671ea70e-c730-46bc-84fd-2e4bbfd3dfc6",
   "metadata": {},
   "outputs": [
    {
     "name": "stdin",
     "output_type": "stream",
     "text": [
      "inserir primeiro valor:  10\n",
      "inserir segundo valor:  8\n",
      "inserir terceiro valor:  6\n",
      "inserir quarto numero: 9\n"
     ]
    },
    {
     "name": "stdout",
     "output_type": "stream",
     "text": [
      "6 8 9 10\n"
     ]
    }
   ],
   "source": [
    "## inserir tres numeros e verificar se não decrescente, pedir um quarto numero e em seguida por em ordem crescente\n",
    "a=int(input('inserir primeiro valor: '))\n",
    "b=int(input('inserir segundo valor: '))\n",
    "c=int(input('inserir terceiro valor: '))\n",
    "#verificar se decrescente\n",
    "if a>b and b>c:\n",
    "    d=int(input('inserir quarto numero:'))\n",
    "    if d>a:\n",
    "        print (c,b,a,d)\n",
    "    else:\n",
    "        if d>b and d<a:\n",
    "            print (c,b,d,a)\n",
    "        else:\n",
    "            if d>c and d<b and d<a:\n",
    "                print (c,d,b,a)\n",
    "            else:\n",
    "                print (d,c,b,a)\n",
    "else:\n",
    "    print ('Sequência fora de ordem decrescente')"
   ]
  },
  {
   "cell_type": "code",
   "execution_count": 225,
   "id": "8fe2a210-02b9-4c21-abbf-af156d353827",
   "metadata": {},
   "outputs": [
    {
     "name": "stdin",
     "output_type": "stream",
     "text": [
      "Você tem interesse em converter Fahranheira para Celcius (1) ou Celcius para Fahrenheit (2)? 2\n",
      "Inserir valor em Celcius : 180\n"
     ]
    },
    {
     "name": "stdout",
     "output_type": "stream",
     "text": [
      " Para temperatura de 180C corresponde a 356.00F\n"
     ]
    }
   ],
   "source": [
    "#Converter Celsius para Fahrenheit\n",
    "def Celcius (F):\n",
    "    C=(5*(F-32))/9\n",
    "    return C\n",
    "def Fahranheit (C):\n",
    "    F=(9*C/5) + 32\n",
    "    return F\n",
    "Q=int(input(\"Você tem interesse em converter Fahranheira para Celcius (1) ou Celcius para Fahrenheit (2)?\"))\n",
    "\n",
    "if Q == 1:\n",
    "    F=int(input(\"Inserir valor em Fahranheit :\"))\n",
    "    C=Celcius(F)\n",
    "    print (f' Para temperatura de {F}F corresponde a {C:.2f}C')\n",
    "else:\n",
    "    if Q==2:\n",
    "        C=int(input(\"Inserir valor em Celcius :\"))\n",
    "        F=Fahranheit(C)\n",
    "        print (f' Para temperatura de {C}C corresponde a {F:.2f}F')\n",
    "    else:\n",
    "        print ('Opção inválida')"
   ]
  },
  {
   "cell_type": "code",
   "execution_count": null,
   "id": "deb401ff-3524-45d9-a62f-9e7c74aeec16",
   "metadata": {},
   "outputs": [],
   "source": []
  }
 ],
 "metadata": {
  "kernelspec": {
   "display_name": "anaconda-panel-2023.05-py310",
   "language": "python",
   "name": "conda-env-anaconda-panel-2023.05-py310-py"
  },
  "language_info": {
   "codemirror_mode": {
    "name": "ipython",
    "version": 3
   },
   "file_extension": ".py",
   "mimetype": "text/x-python",
   "name": "python",
   "nbconvert_exporter": "python",
   "pygments_lexer": "ipython3",
   "version": "3.11.5"
  }
 },
 "nbformat": 4,
 "nbformat_minor": 5
}
