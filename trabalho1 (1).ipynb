{
 "cells": [
  {
   "cell_type": "markdown",
   "metadata": {},
   "source": [
    "## Primeiro trabalho prático"
   ]
  },
  {
   "cell_type": "markdown",
   "metadata": {},
   "source": [
    "1. A equação de Arrhenius em cinética química relaciona a constante de velocidade de uma reação química com a temperatura na qual ela ocorre. Sendo assim, se conhecemos a constante de velocidade em uma determinada temperatura, podemos facilmente encontrar a constante de velocidade em outra temperatura por meio da seguinte equação:\n",
    "\n",
    "$$\\frac{k_1}{k_2} = e^{-\\frac{E_a}{R}\\left(\\frac{1}{T_1} - \\frac{1}{T_2}\\right)}$$\n",
    "\n",
    "em que $k_1$ é a constante de velocidade na temperatura $T_1$, $k_2$ é a constante de velocidade na temperatura $T_2$, $E_a$ é a energia de ativação da reação e $R = 8,3145\\ Pa\\ m^3\\ K^{-1}\\ mol^{-1}$ é a constante universal dos gases perfeitos. Escreva um programa que leia a energia de ativação da reação, a constante de velocidade em uma determinada temperatura e a temperatura correspondente, leia uma outra temperatura (**ambas as temperaturas em °C**) e então faça:\n",
    "\n",
    "a) Uma função que receba como entrada a temperatura em °C converta para K e retorne esse valor em K.  \n",
    "b) Uma função que recebe $E_a$, $k_1$, $T_1$ e $T_2$, calcula $k_2$ e retorna esse valor.  \n",
    "c) No programa principal chame a função para o cálculo de $k_2$ e imprima o resultado.  "
   ]
  },
  {
   "cell_type": "code",
   "execution_count": null,
   "metadata": {},
   "outputs": [],
   "source": [
    "# Responda aqui"
   ]
  },
  {
   "cell_type": "markdown",
   "metadata": {},
   "source": [
    "2. Um determinado material radioativo perde metade de sua massa a cada 50 s. Esse tempo é chamado de **tempo de meia-vida**. Sendo dado de entrada a massa do material (em g), escreva um programa que calcule o tempo necessário para que a massa deste material passe a ser inferior a 1g. Escreva na tela sua resposta em horas, minutos e segundos."
   ]
  },
  {
   "cell_type": "code",
   "execution_count": null,
   "metadata": {},
   "outputs": [],
   "source": [
    "# Responda aqui"
   ]
  },
  {
   "cell_type": "markdown",
   "metadata": {},
   "source": [
    "3. Para determinar a porcentagem de $Fe^{3+}$ em uma amostra, um estudante transferiu uma massa m da amostra contendo $Fe^{3+}$ para um recipiente adequado e, após devido tratamento, todo íon foi reduzido à $Fe^{2+}$. Em seguida, a solução foi titulada em triplicata por uma solução de concentração conhecida de  $K_2Cr_2O_7$. \n",
    "\n",
    "Escreva um programa que leia o valor da massa da amostra de $Fe^{3+}$, a concentração de $K_2Cr_2O_7$ em $mol\\ L^{-1}$, e os valores dos volumes  gastos de $K_2Cr_2O_7$ em 3 titulações (triplicata) e calcule:\n",
    "\n",
    "$Cr_2O_7^{2-}(aq) + 6 Fe^{2+}(aq) + 14 H^+(aq) \\rightarrow 2 Cr^{3+}(aq) + 6 Fe^{3+}(aq) + 7 H_2O(l)$\n",
    "\n",
    "a) O volume médio de $K_2Cr_2O_7$ gasto nas titulações\n",
    "\n",
    "b) A porcentagem de Fe (MM = 56 g/mol) na amostra inicial"
   ]
  },
  {
   "cell_type": "code",
   "execution_count": null,
   "metadata": {},
   "outputs": [],
   "source": [
    "# Responda aqui"
   ]
  },
  {
   "cell_type": "markdown",
   "metadata": {},
   "source": [
    "4. Faça uma função para calcular o valor aproximado de $sen\\ x$ por meio da série: \n",
    "\n",
    "$S = x - \\frac{x^3}{3!} + \\frac{x^5}{5!} - \\frac{x^7}{7!} + \\frac{x^9}{9!} - \\cdots$\n",
    "\n",
    "OBS.1: O número de termos da série e o valor de x deverá ser fornecido pelo usuário no programa principal e passado à função como parâmetro.\n",
    "\n",
    "OBS.2: Escreva uma função fatorial para ser usada no cálculo de cada termo."
   ]
  },
  {
   "cell_type": "code",
   "execution_count": null,
   "metadata": {},
   "outputs": [],
   "source": [
    "# Responda aqui"
   ]
  }
 ],
 "metadata": {
  "kernelspec": {
   "display_name": "Python 3 (ipykernel)",
   "language": "python",
   "name": "python3"
  },
  "language_info": {
   "codemirror_mode": {
    "name": "ipython",
    "version": 3
   },
   "file_extension": ".py",
   "mimetype": "text/x-python",
   "name": "python",
   "nbconvert_exporter": "python",
   "pygments_lexer": "ipython3",
   "version": "3.9.13"
  },
  "vscode": {
   "interpreter": {
    "hash": "ad51cc968e5ffd60718f6bf3e1832c48ef7f91d0f8e10e5218834cbe543cc66b"
   }
  }
 },
 "nbformat": 4,
 "nbformat_minor": 2
}
